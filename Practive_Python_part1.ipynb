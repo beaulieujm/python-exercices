{
 "cells": [
  {
   "cell_type": "markdown",
   "metadata": {
    "slideshow": {
     "slide_type": "-"
    }
   },
   "source": [
    "# Python Practice exercices \n",
    "Reference : "
   ]
  },
  {
   "cell_type": "markdown",
   "metadata": {},
   "source": [
    "##Exercice 1 -- "
   ]
  },
  {
   "cell_type": "code",
   "execution_count": null,
   "metadata": {},
   "outputs": [],
   "source": [
    "# Code here"
   ]
  },
  {
   "cell_type": "markdown",
   "metadata": {},
   "source": [
    "##Exercise 2  -- Odd or Even\n",
    "Ask the user for a number. Depending on whether the number is even or odd, print out an appropriate message to the user. \n",
    "Hint: how does an even / odd number react differently when divided by 2?\n",
    "\n",
    "Extras:\n",
    "\n",
    "* If the number is a multiple of 4, print out a different message.\n",
    "* Ask the user for two numbers: one number to check (call it num) and one number to divide by (check). \n",
    "  If check divides evenly into num, tell that to the user. If not, print a different appropriate message."
   ]
  },
  {
   "cell_type": "code",
   "execution_count": null,
   "metadata": {},
   "outputs": [],
   "source": [
    "number_str =input(\"Enter a number? \")\n",
    "number = int(number_str)\n",
    "if number%4 == 0:\n",
    "    print (\"The number \", number, \"is a multiple of 4, thus even\")\n",
    "elif number%2 == 0 :\n",
    "    print (\"The number \", number,\" is Even\")\n",
    "else: \n",
    "    print (\"The number \", number,\" is Odd\")\n"
   ]
  },
  {
   "cell_type": "markdown",
   "metadata": {},
   "source": [
    "Extra  \n",
    "* Ask the user for two numbers: one number to check (call it num) and one number to divide by (check). \n",
    "  If check divides evenly into num, tell that to the user. If not, print a different appropriate message."
   ]
  },
  {
   "cell_type": "code",
   "execution_count": null,
   "metadata": {},
   "outputs": [],
   "source": [
    "num = int(input(\"Enter a number? \"))\n",
    "check = int(input(\"Enter modulus number? \"))\n",
    "if num%check == 0:\n",
    "    print (\"The number \", num, \"is a multiple of \",check,\".\")\n",
    "else :\n",
    "    print (\"The number \", num, \"is NOT a multiple of \",check,\".\")"
   ]
  },
  {
   "cell_type": "code",
   "execution_count": null,
   "metadata": {},
   "outputs": [],
   "source": []
  }
 ],
 "metadata": {
  "kernelspec": {
   "display_name": "Python 3",
   "language": "python",
   "name": "python3"
  },
  "language_info": {
   "codemirror_mode": {
    "name": "ipython",
    "version": 3
   },
   "file_extension": ".py",
   "mimetype": "text/x-python",
   "name": "python",
   "nbconvert_exporter": "python",
   "pygments_lexer": "ipython3",
   "version": "3.6.4"
  }
 },
 "nbformat": 4,
 "nbformat_minor": 2
}
