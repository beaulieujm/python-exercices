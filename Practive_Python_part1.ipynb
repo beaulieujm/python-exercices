{
 "cells": [
  {
   "cell_type": "markdown",
   "metadata": {
    "colab_type": "text",
    "id": "view-in-github"
   },
   "source": [
    "<a href=\"https://colab.research.google.com/github/beaulieujm/python-exercices/blob/master/Practive_Python_part1.ipynb\" target=\"_parent\"><img src=\"https://colab.research.google.com/assets/colab-badge.svg\" alt=\"Open In Colab\"/></a>"
   ]
  },
  {
   "cell_type": "markdown",
   "metadata": {
    "colab_type": "text",
    "id": "lfidULdMCYU3"
   },
   "source": [
    "# Python Practice exercices \n",
    "Reference : https://www.practicepython.org/"
   ]
  },
  {
   "cell_type": "markdown",
   "metadata": {
    "colab_type": "text",
    "id": "DHtLbgSaCYVA"
   },
   "source": [
    "# Exercice 1 -- Character Input\n",
    "Link: https://www.practicepython.org/exercise/2014/01/29/01-character-input.html\n",
    "\n",
    "Create a program that asks the user to enter their name and their age. \n",
    "Print out a message addressed to them that tells them the year that they will turn 100 years old.\n",
    "\n",
    "Extras:\n",
    "\n",
    "* Add on to the previous program by asking the user for another number and printing out that many copies of the previous message. (Hint: order of operations exists in Python)\n",
    "* Print out that many copies of the previous message on separate lines. (Hint: the string \"\\n is the same as pressing the ENTER button)"
   ]
  },
  {
   "cell_type": "code",
   "execution_count": null,
   "metadata": {},
   "outputs": [],
   "source": [
    "##\n",
    "import datetime\n",
    "now = datetime.datetime.now()\n",
    "current_year = now.year\n",
    "\n",
    "name = input(\"Enter your name: \")\n",
    "age = int(input(\"Enter your age: \"))\n",
    "birthday_this_year = input(\"Do you already celebrated your birthday this year (Y or N)\")\n",
    "\n",
    "if birthday_this_year == \"Y\":\n",
    "    year_age100 = current_year + 100 - age\n",
    "elif  birthday_this_year == \"N\":\n",
    "    year_age100 = current_year + 100 - age - 1\n",
    "else:\n",
    "    print(\"Wrong input: \" + birthday_this_year)\n",
    "    print(\"Assuming you did not celebrate your birthday durng this year\")\n",
    "    year_age100 = current_year + 100 - age\n",
    "\n",
    "number_times = int(input(\"Enter number of time to print: \"))\n",
    "for i in range(0,number_times):\n",
    "    print(\"Cher \", name, \" you will turn 100 years old in \", year_age100)\n"
   ]
  },
  {
   "cell_type": "markdown",
   "metadata": {
    "colab_type": "text",
    "id": "ImYYhCpZCYVW"
   },
   "source": [
    "# Exercise 2  -- Odd or Even\n",
    "Link: https://www.practicepython.org/exercise/2014/02/05/02-odd-or-even.html\n",
    "\n",
    "Ask the user for a number. Depending on whether the number is even or odd, print out an appropriate message to the user. \n",
    "Hint: how does an even / odd number react differently when divided by 2?\n",
    "\n",
    "Extras:\n",
    "\n",
    "* If the number is a multiple of 4, print out a different message.\n",
    "* Ask the user for two numbers: one number to check (call it num) and one number to divide by (check). \n",
    "  If check divides evenly into num, tell that to the user. If not, print a different appropriate message."
   ]
  },
  {
   "cell_type": "code",
   "execution_count": null,
   "metadata": {
    "colab": {},
    "colab_type": "code",
    "id": "QGjzb9p0CYVb"
   },
   "outputs": [],
   "source": [
    "number_str =input(\"Enter a number? \")\n",
    "number = int(number_str)\n",
    "if number%4 == 0:\n",
    "    print (\"The number \", number, \"is a multiple of 4, thus even\")\n",
    "elif number%2 == 0 :\n",
    "    print (\"The number \", number,\" is Even\")\n",
    "else: \n",
    "    print (\"The number \", number,\" is Odd\")\n"
   ]
  },
  {
   "cell_type": "markdown",
   "metadata": {
    "colab_type": "text",
    "id": "l6mRPW8NCYVi"
   },
   "source": [
    "Extra  \n",
    "* Ask the user for two numbers: one number to check (call it num) and one number to divide by (check). \n",
    "  If check divides evenly into num, tell that to the user. If not, print a different appropriate message."
   ]
  },
  {
   "cell_type": "code",
   "execution_count": null,
   "metadata": {
    "colab": {},
    "colab_type": "code",
    "id": "oCZ_A-khCYVk"
   },
   "outputs": [],
   "source": [
    "num = int(input(\"Enter a number? \"))\n",
    "check = int(input(\"Enter modulus number? \"))\n",
    "if num%check == 0:\n",
    "    print (\"The number \", num, \"is a multiple of \",check,\".\")\n",
    "else :\n",
    "    print (\"The number \", num, \"is NOT a multiple of \",check,\".\")"
   ]
  },
  {
   "cell_type": "markdown",
   "metadata": {
    "colab": {},
    "colab_type": "code",
    "id": "SWCvP_D8CYVr"
   },
   "source": [
    "# Exercise 3 -- List Less Than Ten\n",
    "Link: https://www.practicepython.org/exercise/2014/02/15/03-list-less-than-ten.html\n",
    "\n",
    "Take a list, say for example this one:\n",
    "  a = [1, 1, 2, 3, 5, 8, 13, 21, 34, 55, 89]\n",
    "and write a program that prints out all the elements of the list that are less than 5.\n",
    "\n",
    "Extras:\n",
    "\n",
    "* Instead of printing the elements one by one, make a new list that has all the elements less than 5 from this list in it and print out this new list.\n",
    "* Write this in one line of Python.\n",
    "* Ask the user for a number and return a list that contains only elements from the original list a that are smaller than that number given by the user. "
   ]
  },
  {
   "cell_type": "code",
   "execution_count": null,
   "metadata": {},
   "outputs": [],
   "source": [
    "##\n",
    "alist = [1, 1, 2, 3, 5, 8, 13, 21, 34, 55, 89]\n",
    "num = int(input(\"Enter a interger threshold number? \"))\n",
    "filteredList = []\n",
    "checknum = 0\n",
    "\n",
    "for item in alist:\n",
    "    if item < num:\n",
    "        filteredList.append(item)\n",
    "        checknum=checknum+1\n",
    "\n",
    "print(\"There are \",len(filteredList),\" element less than \",num)\n",
    "print (filteredList)"
   ]
  },
  {
   "cell_type": "code",
   "execution_count": null,
   "metadata": {},
   "outputs": [],
   "source": [
    "## Solution in one line -- But it does not create a list\n",
    "## Attention: filter returns an iterator, not a list\n",
    "for aa in filter((lambda x : x < 5), [1, 1, 2, 3, 5, 8, 13, 21, 34, 55, 89]): print(aa)"
   ]
  },
  {
   "cell_type": "code",
   "execution_count": null,
   "metadata": {},
   "outputs": [],
   "source": [
    "## Solution in one line which create a list\n",
    "## Attention: filter returns an iterator, not a list\n",
    "aa= []; aa.extend(filter((lambda x : x < 5), [1, 1, 2, 3, 5, 8, 13, 21, 34, 55, 89])); print(aa)"
   ]
  },
  {
   "cell_type": "markdown",
   "metadata": {
    "colab": {},
    "colab_type": "code",
    "id": "SWCvP_D8CYVr"
   },
   "source": [
    "# Exercise 4 -- Divisors\n",
    "Link: https://www.practicepython.org/exercise/2014/02/26/04-divisors.html\n",
    "\n",
    "Create a program that asks the user for a number and then prints out a list of all the divisors of that number. (If you don’t know what a divisor is, it is a number that divides evenly into another number. For example, 13 is a divisor of 26 because 26 / 13 has no remainder.)\n"
   ]
  },
  {
   "cell_type": "markdown",
   "metadata": {
    "colab": {},
    "colab_type": "code",
    "id": "SWCvP_D8CYVr"
   },
   "source": [
    "# Exercise 5 -- List Overlap\n",
    "Link: https://www.practicepython.org/exercise/2014/03/05/05-list-overlap.html\n",
    "\n",
    "Take two lists, say for example these two:\n",
    "\n",
    "  a = [1, 1, 2, 3, 5, 8, 13, 21, 34, 55, 89]\n",
    "  b = [1, 2, 3, 4, 5, 6, 7, 8, 9, 10, 11, 12, 13]\n",
    "and write a program that returns a list that contains only the elements that are common between the lists (without duplicates). Make sure your program works on two lists of different sizes.\n",
    "\n",
    "Extras:\n",
    "\n",
    "* Randomly generate two lists to test this\n",
    "* Write this in one line of Python (don’t worry if you can’t figure this out at this point - we’ll get to it soon)"
   ]
  },
  {
   "cell_type": "markdown",
   "metadata": {
    "colab": {},
    "colab_type": "code",
    "id": "SWCvP_D8CYVr"
   },
   "source": [
    "# Exercise 6 -- String Lists\n",
    "Link: https://www.practicepython.org/exercise/2014/03/12/06-string-lists.html\n",
    "\n",
    "Ask the user for a string and print out whether this string is a palindrome or not. (A palindrome is a string that reads the same forwards and backwards.)"
   ]
  },
  {
   "cell_type": "markdown",
   "metadata": {
    "colab": {},
    "colab_type": "code",
    "id": "SWCvP_D8CYVr"
   },
   "source": [
    "# Exercise 7 -- List Comprehensions\n",
    "Link: https://www.practicepython.org/exercise/2014/03/19/07-list-comprehensions.html\n",
    "\n",
    "Let’s say I give you a list saved in a variable: a = [1, 4, 9, 16, 25, 36, 49, 64, 81, 100]. Write one line of Python that takes this list a and makes a new list that has only the even elements of this list in it."
   ]
  },
  {
   "cell_type": "markdown",
   "metadata": {
    "colab": {},
    "colab_type": "code",
    "id": "SWCvP_D8CYVr"
   },
   "source": [
    "# Exercise 8 -- Rock Paper Scissors\n",
    "Link: https://www.practicepython.org/exercise/2014/03/26/08-rock-paper-scissors.html\n",
    "\n",
    "Make a two-player Rock-Paper-Scissors game. (Hint: Ask for player plays (using input), compare them, print out a message of congratulations to the winner, and ask if the players want to start a new game)\n",
    "\n",
    "Remember the rules:\n",
    "\n",
    "* Rock beats scissors\n",
    "* Scissors beats paper\n",
    "* Paper beats rock"
   ]
  },
  {
   "cell_type": "markdown",
   "metadata": {
    "colab": {},
    "colab_type": "code",
    "id": "SWCvP_D8CYVr"
   },
   "source": [
    "# Exercise 9 -- Guessing Game One\n",
    "Link: https://www.practicepython.org/exercise/2014/04/02/09-guessing-game-one.html\n",
    "\n",
    "Generate a random number between 1 and 9 (including 1 and 9). Ask the user to guess the number, then tell them whether they guessed too low, too high, or exactly right. (Hint: remember to use the user input lessons from the very first exercise)\n",
    "\n",
    "Extras:\n",
    "\n",
    "* Keep the game going until the user types “exit”\n",
    "* Keep track of how many guesses the user has taken, and when the game ends, print this out."
   ]
  },
  {
   "cell_type": "markdown",
   "metadata": {
    "colab": {},
    "colab_type": "code",
    "id": "SWCvP_D8CYVr"
   },
   "source": [
    "# Exercise 10 -- List Overlap Comprehensions\n",
    "Link: https://www.practicepython.org/exercise/2014/04/10/10-list-overlap-comprehensions.html\n",
    "\n",
    "This week’s exercise is going to be revisiting an old exercise (see Exercise 5), except require the solution in a different way.\n",
    "\n",
    "Take two lists, say for example these two:\n",
    "\n",
    "\ta = [1, 1, 2, 3, 5, 8, 13, 21, 34, 55, 89]\n",
    "\tb = [1, 2, 3, 4, 5, 6, 7, 8, 9, 10, 11, 12, 13]\n",
    "and write a program that returns a list that contains only the elements that are common between the lists (without duplicates). Make sure your program works on two lists of different sizes. Write this in one line of Python using at least one list comprehension. (Hint: Remember list comprehensions from Exercise 7).\n",
    "\n",
    "The original formulation of this exercise said to write the solution using one line of Python, but a few readers pointed out that this was impossible to do without using sets that I had not yet discussed on the blog, so you can either choose to use the original directive and read about the set command in Python 3.3, or try to implement this on your own and use at least one list comprehension in the solution.\n",
    "\n",
    "Extra:\n",
    "\n",
    "* Randomly generate two lists to test this"
   ]
  },
  {
   "cell_type": "markdown",
   "metadata": {
    "colab": {},
    "colab_type": "code",
    "id": "SWCvP_D8CYVr"
   },
   "source": [
    "# Exercise 11 -- Check Primality Functions\n",
    "Link: https://www.practicepython.org/exercise/2014/04/16/11-check-primality-functions.html\n",
    "\n",
    "Ask the user for a number and determine whether the number is prime or not. (For those who have forgotten, a prime number is a number that has no divisors.). You can (and should!) use your answer to Exercise 4 to help you. Take this opportunity to practice using functions, described below."
   ]
  },
  {
   "cell_type": "markdown",
   "metadata": {
    "colab": {},
    "colab_type": "code",
    "id": "SWCvP_D8CYVr"
   },
   "source": [
    "# Exercise 12 -- List Ends\n",
    "Link: https://www.practicepython.org/exercise/2014/04/25/12-list-ends.html\n",
    "\n",
    "Write a program that takes a list of numbers (for example, a = [5, 10, 15, 20, 25]) and makes a new list of only the first and last elements of the given list. For practice, write this code inside a function."
   ]
  }
 ],
 "metadata": {
  "colab": {
   "collapsed_sections": [],
   "include_colab_link": true,
   "name": "Copy of Practive_Python_part1.ipynb",
   "provenance": [],
   "version": "0.3.2"
  },
  "kernelspec": {
   "display_name": "Python 3",
   "language": "python",
   "name": "python3"
  },
  "language_info": {
   "codemirror_mode": {
    "name": "ipython",
    "version": 3
   },
   "file_extension": ".py",
   "mimetype": "text/x-python",
   "name": "python",
   "nbconvert_exporter": "python",
   "pygments_lexer": "ipython3",
   "version": "3.6.4"
  }
 },
 "nbformat": 4,
 "nbformat_minor": 1
}
