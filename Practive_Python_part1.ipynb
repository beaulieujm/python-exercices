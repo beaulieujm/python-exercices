{
  "nbformat": 4,
  "nbformat_minor": 0,
  "metadata": {
    "colab": {
      "name": "Copy of Practive_Python_part1.ipynb",
      "version": "0.3.2",
      "provenance": [],
      "collapsed_sections": [],
      "include_colab_link": true
    },
    "kernelspec": {
      "display_name": "Python 3",
      "language": "python",
      "name": "python3"
    }
  },
  "cells": [
    {
      "cell_type": "markdown",
      "metadata": {
        "id": "view-in-github",
        "colab_type": "text"
      },
      "source": [
        "<a href=\"https://colab.research.google.com/github/beaulieujm/python-exercices/blob/master/Practive_Python_part1.ipynb\" target=\"_parent\"><img src=\"https://colab.research.google.com/assets/colab-badge.svg\" alt=\"Open In Colab\"/></a>"
      ]
    },
    {
      "metadata": {
        "id": "lfidULdMCYU3",
        "colab_type": "text"
      },
      "cell_type": "markdown",
      "source": [
        "# Python Practice exercices \n",
        "Reference : "
      ]
    },
    {
      "metadata": {
        "id": "DHtLbgSaCYVA",
        "colab_type": "text"
      },
      "cell_type": "markdown",
      "source": [
        "##Exercice 1 -- test more a voir"
      ]
    },
    {
      "metadata": {
        "id": "ImYYhCpZCYVW",
        "colab_type": "text"
      },
      "cell_type": "markdown",
      "source": [
        "##Exercise 2  -- Odd or Even\n",
        "Ask the user for a number. Depending on whether the number is even or odd, print out an appropriate message to the user. \n",
        "Hint: how does an even / odd number react differently when divided by 2?\n",
        "\n",
        "Extras:\n",
        "\n",
        "* If the number is a multiple of 4, print out a different message.\n",
        "* Ask the user for two numbers: one number to check (call it num) and one number to divide by (check). \n",
        "  If check divides evenly into num, tell that to the user. If not, print a different appropriate message."
      ]
    },
    {
      "metadata": {
        "id": "QGjzb9p0CYVb",
        "colab_type": "code",
        "colab": {}
      },
      "cell_type": "code",
      "source": [
        "number_str =input(\"Enter a number? \")\n",
        "number = int(number_str)\n",
        "if number%4 == 0:\n",
        "    print (\"The number \", number, \"is a multiple of 4, thus even\")\n",
        "elif number%2 == 0 :\n",
        "    print (\"The number \", number,\" is Even\")\n",
        "else: \n",
        "    print (\"The number \", number,\" is Odd\")\n"
      ],
      "execution_count": 0,
      "outputs": []
    },
    {
      "metadata": {
        "id": "l6mRPW8NCYVi",
        "colab_type": "text"
      },
      "cell_type": "markdown",
      "source": [
        "Extra  \n",
        "* Ask the user for two numbers: one number to check (call it num) and one number to divide by (check). \n",
        "  If check divides evenly into num, tell that to the user. If not, print a different appropriate message."
      ]
    },
    {
      "metadata": {
        "id": "oCZ_A-khCYVk",
        "colab_type": "code",
        "colab": {}
      },
      "cell_type": "code",
      "source": [
        "num = int(input(\"Enter a number? \"))\n",
        "check = int(input(\"Enter modulus number? \"))\n",
        "if num%check == 0:\n",
        "    print (\"The number \", num, \"is a multiple of \",check,\".\")\n",
        "else :\n",
        "    print (\"The number \", num, \"is NOT a multiple of \",check,\".\")"
      ],
      "execution_count": 0,
      "outputs": []
    },
    {
      "metadata": {
        "id": "SWCvP_D8CYVr",
        "colab_type": "code",
        "colab": {}
      },
      "cell_type": "code",
      "source": [
        ""
      ],
      "execution_count": 0,
      "outputs": []
    }
  ]
}