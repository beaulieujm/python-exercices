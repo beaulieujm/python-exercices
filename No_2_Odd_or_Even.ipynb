{
  "nbformat": 4,
  "nbformat_minor": 0,
  "metadata": {
    "colab": {
      "name": "No_2_Odd_or_Even.ipynb",
      "version": "0.3.2",
      "provenance": [],
      "collapsed_sections": [],
      "include_colab_link": true
    },
    "kernelspec": {
      "display_name": "Python 3",
      "language": "python",
      "name": "python3"
    }
  },
  "cells": [
    {
      "cell_type": "markdown",
      "metadata": {
        "id": "view-in-github",
        "colab_type": "text"
      },
      "source": [
        "<a href=\"https://colab.research.google.com/github/beaulieujm/python-exercices/blob/master/No_2_Odd_or_Even.ipynb\" target=\"_parent\"><img src=\"https://colab.research.google.com/assets/colab-badge.svg\" alt=\"Open In Colab\"/></a>"
      ]
    },
    {
      "metadata": {
        "id": "KYQNSfu3_XBI",
        "colab_type": "text"
      },
      "cell_type": "markdown",
      "source": [
        "# Odd or Even\n",
        "Exercice No 2 from Practice Python"
      ]
    },
    {
      "metadata": {
        "id": "Hc9WY78l_XBK",
        "colab_type": "text"
      },
      "cell_type": "markdown",
      "source": [
        "Exercise 2  \n",
        "Ask the user for a number. Depending on whether the number is even or odd, print out an appropriate message to the user. \n",
        "Hint: how does an even / odd number react differently when divided by 2?\n",
        "\n",
        "Extras:\n",
        "\n",
        "* If the number is a multiple of 4, print out a different message.\n",
        "* Ask the user for two numbers: one number to check (call it num) and one number to divide by (check). \n",
        "  If check divides evenly into num, tell that to the user. If not, print a different appropriate message."
      ]
    },
    {
      "metadata": {
        "id": "e3aoFUYt_XBM",
        "colab_type": "code",
        "colab": {}
      },
      "cell_type": "code",
      "source": [
        "number_str =input(\"Enter a number? \")\n",
        "number = int(number_str)\n",
        "if number%4 == 0:\n",
        "    print (\"The number \", number, \"is a multiple of 4, thus even\")\n",
        "elif number%2 == 0 :\n",
        "    print (\"The number \", number,\" is Even\")\n",
        "else: \n",
        "    print (\"The number \", number,\" is Odd\")\n"
      ],
      "execution_count": 0,
      "outputs": []
    },
    {
      "metadata": {
        "id": "Vy3KA4P-_XBQ",
        "colab_type": "text"
      },
      "cell_type": "markdown",
      "source": [
        "Extra  \n",
        "* Ask the user for two numbers: one number to check (call it num) and one number to divide by (check). \n",
        "  If check divides evenly into num, tell that to the user. If not, print a different appropriate message."
      ]
    },
    {
      "metadata": {
        "id": "L1KGLRbp_XBR",
        "colab_type": "code",
        "colab": {}
      },
      "cell_type": "code",
      "source": [
        "num = int(input(\"Enter a number? \"))\n",
        "check = int(input(\"Enter modulus number? \"))\n",
        "if num%check == 0:\n",
        "    print (\"The number \", num, \"is a multiple of \",check,\".\")\n",
        "else :\n",
        "    print (\"The number \", num, \"is NOT a multiple of \",check,\".\")"
      ],
      "execution_count": 0,
      "outputs": []
    },
    {
      "metadata": {
        "id": "FruRc8-m_0Wa",
        "colab_type": "text"
      },
      "cell_type": "markdown",
      "source": [
        "This is a **test**."
      ]
    },
    {
      "metadata": {
        "id": "0Jh_Ji_H_XBV",
        "colab_type": "code",
        "colab": {}
      },
      "cell_type": "code",
      "source": [
        "print(\"this is a test\")"
      ],
      "execution_count": 0,
      "outputs": []
    }
  ]
}